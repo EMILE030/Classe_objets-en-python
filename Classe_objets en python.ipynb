{
 "cells": [
  {
   "cell_type": "code",
   "execution_count": 61,
   "id": "2cf25dba",
   "metadata": {},
   "outputs": [
    {
     "name": "stdout",
     "output_type": "stream",
     "text": [
      "(1, 2, 3)\n"
     ]
    }
   ],
   "source": [
    "# question 1\n",
    "class Point3D:\n",
    "    def __init__(self, x, y ,z):\n",
    "        self.x= x\n",
    "        self.y= y\n",
    "        self.z= z\n",
    "        \n",
    "    def imprimer(self):\n",
    "            return self.x, self.y, self.z\n",
    "\n",
    "my_point=Point3D(1,2,3)\n",
    "print(my_point.imprimer())"
   ]
  },
  {
   "cell_type": "code",
   "execution_count": 60,
   "id": "5e7858fd",
   "metadata": {},
   "outputs": [
    {
     "name": "stdout",
     "output_type": "stream",
     "text": [
      "l'aire du rectangle est 12\n",
      "l'perimetre du rectangle est 14\n"
     ]
    }
   ],
   "source": [
    "# question 2\n",
    "class Rectangle:\n",
    "    def __init__(self, longeur, largeur):\n",
    "        self.longeur=longeur\n",
    "        self.largeur=largeur\n",
    "    \n",
    "    def aire(self):\n",
    "        return self.longeur*self.largeur\n",
    "    \n",
    "    def perimetre(self):\n",
    "        return (self.longeur+self.largeur)*2\n",
    "\n",
    "my_rectangle=Rectangle(4,3)\n",
    "print(\"l'aire du rectangle est\", my_rectangle.aire())\n",
    "print(\"l'perimetre du rectangle est\", my_rectangle.perimetre())"
   ]
  },
  {
   "cell_type": "code",
   "execution_count": 59,
   "id": "be5a9758",
   "metadata": {},
   "outputs": [
    {
     "name": "stdout",
     "output_type": "stream",
     "text": [
      "l'aire du cercle est 25\n",
      "l'perimetre du cercle est 31.400000000000002\n"
     ]
    }
   ],
   "source": [
    "# question 3\n",
    "class circle:\n",
    "    def __init__(self,r):\n",
    "        self.r=r\n",
    "    \n",
    "    def aire(self):\n",
    "        return self.r*self.r\n",
    "    \n",
    "    def perimetre(self):\n",
    "        return 2*self.r*3.14\n",
    "\n",
    "my_circle=circle(5)\n",
    "print(\"l'aire du cercle est\", my_circle.aire())\n",
    "print(\"l'perimetre du cercle est\", my_circle.perimetre())"
   ]
  },
  {
   "cell_type": "code",
   "execution_count": 50,
   "id": "86b06f72",
   "metadata": {},
   "outputs": [
    {
     "data": {
      "text/plain": [
       "2000"
      ]
     },
     "execution_count": 50,
     "metadata": {},
     "output_type": "execute_result"
    }
   ],
   "source": [
    "# question 4\n",
    "class bank:\n",
    "    def __init__(self, solde):\n",
    "        self.solde=solde\n",
    "    \n",
    "    def depot (self, depot):\n",
    "        self.solde+=depot\n",
    "        return self.solde\n",
    "    \n",
    "    def retrait(self, retrait):\n",
    "        self.solde-=retrait\n",
    "        return self.solde\n",
    "\n",
    "my_bank=bank(1000)\n",
    "my_bank.depot(1000)"
   ]
  },
  {
   "cell_type": "code",
   "execution_count": null,
   "id": "9d524ef3",
   "metadata": {},
   "outputs": [],
   "source": []
  }
 ],
 "metadata": {
  "kernelspec": {
   "display_name": "Python 3 (ipykernel)",
   "language": "python",
   "name": "python3"
  },
  "language_info": {
   "codemirror_mode": {
    "name": "ipython",
    "version": 3
   },
   "file_extension": ".py",
   "mimetype": "text/x-python",
   "name": "python",
   "nbconvert_exporter": "python",
   "pygments_lexer": "ipython3",
   "version": "3.9.7"
  }
 },
 "nbformat": 4,
 "nbformat_minor": 5
}
